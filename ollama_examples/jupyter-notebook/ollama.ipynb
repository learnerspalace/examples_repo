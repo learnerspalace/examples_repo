{
 "cells": [
  {
   "cell_type": "code",
   "execution_count": 1,
   "id": "93f59dcb-c588-41b8-a792-55d88ade739c",
   "metadata": {},
   "outputs": [],
   "source": [
    "# Download and run the Ollama Linux install script\n",
    "# !curl -fsSL https://ollama.com/install.sh | sh\n",
    "!command -v systemctl >/dev/null && sudo systemctl stop ollama"
   ]
  },
  {
   "cell_type": "code",
   "execution_count": 1,
   "id": "658c147e-c7f8-490e-910e-62b80f577dda",
   "metadata": {},
   "outputs": [
    {
     "name": "stdout",
     "output_type": "stream",
     "text": [
      "Requirement already satisfied: aiohttp in /Users/kashish/.pyenv/versions/miniforge3-latest/envs/examples_repo_312/lib/python3.12/site-packages (3.9.3)\n",
      "Requirement already satisfied: pyngrok in /Users/kashish/.pyenv/versions/miniforge3-latest/envs/examples_repo_312/lib/python3.12/site-packages (7.1.5)\n",
      "Requirement already satisfied: aiosignal>=1.1.2 in /Users/kashish/.pyenv/versions/miniforge3-latest/envs/examples_repo_312/lib/python3.12/site-packages (from aiohttp) (1.3.1)\n",
      "Requirement already satisfied: attrs>=17.3.0 in /Users/kashish/.pyenv/versions/miniforge3-latest/envs/examples_repo_312/lib/python3.12/site-packages (from aiohttp) (23.2.0)\n",
      "Requirement already satisfied: frozenlist>=1.1.1 in /Users/kashish/.pyenv/versions/miniforge3-latest/envs/examples_repo_312/lib/python3.12/site-packages (from aiohttp) (1.4.1)\n",
      "Requirement already satisfied: multidict<7.0,>=4.5 in /Users/kashish/.pyenv/versions/miniforge3-latest/envs/examples_repo_312/lib/python3.12/site-packages (from aiohttp) (6.0.5)\n",
      "Requirement already satisfied: yarl<2.0,>=1.0 in /Users/kashish/.pyenv/versions/miniforge3-latest/envs/examples_repo_312/lib/python3.12/site-packages (from aiohttp) (1.9.4)\n",
      "Requirement already satisfied: PyYAML>=5.1 in /Users/kashish/.pyenv/versions/miniforge3-latest/envs/examples_repo_312/lib/python3.12/site-packages (from pyngrok) (6.0.1)\n",
      "Requirement already satisfied: idna>=2.0 in /Users/kashish/.pyenv/versions/miniforge3-latest/envs/examples_repo_312/lib/python3.12/site-packages (from yarl<2.0,>=1.0->aiohttp) (3.6)\n",
      "Note: you may need to restart the kernel to use updated packages.\n",
      ">>> starting ollama serve\n",
      ">>> starting ngrok http --log stderr 11434\n",
      "Error: listen tcp 127.0.0.1:11434: bind: address already in use\n",
      "t=2024-03-18T00:12:10+0530 lvl=info msg=\"no configuration paths supplied\"\n",
      "t=2024-03-18T00:12:10+0530 lvl=warn msg=\"ngrok config file found at both XDG and legacy locations, using XDG location\" xdg_path=\"/Users/kashish/Library/Application Support/ngrok/ngrok.yml\" legacy_path=/Users/kashish/.ngrok2/ngrok.yml\n",
      "t=2024-03-18T00:12:10+0530 lvl=info msg=\"using configuration at default config path\" path=\"/Users/kashish/Library/Application Support/ngrok/ngrok.yml\"\n",
      "t=2024-03-18T00:12:10+0530 lvl=info msg=\"open config file\" path=\"/Users/kashish/Library/Application Support/ngrok/ngrok.yml\" err=nil\n",
      "t=2024-03-18T00:12:10+0530 lvl=info msg=\"starting web service\" obj=web addr=127.0.0.1:4040 allow_hosts=[]\n",
      "t=2024-03-18T00:12:10+0530 lvl=info msg=\"client session established\" obj=tunnels.session\n",
      "t=2024-03-18T00:12:10+0530 lvl=info msg=\"tunnel session started\" obj=tunnels.session\n",
      "t=2024-03-18T00:12:10+0530 lvl=info msg=\"started tunnel\" obj=tunnels name=command_line addr=http://localhost:11434 url=https://1aae-210-89-59-180.ngrok-free.app\n"
     ]
    }
   ],
   "source": [
    "# %pip install aiohttp pyngrok\n",
    "\n",
    "import os\n",
    "import asyncio\n",
    "from aiohttp import ClientSession\n",
    "\n",
    "# Set LD_LIBRARY_PATH so the system NVIDIA library becomes preferred\n",
    "# over the built-in library. This is particularly important for \n",
    "# Google Colab which installs older drivers\n",
    "os.environ.update({'LD_LIBRARY_PATH': '/usr/lib64-nvidia'})\n",
    "\n",
    "async def run(cmd):\n",
    "  '''\n",
    "  run is a helper function to run subcommands asynchronously.\n",
    "  '''\n",
    "  print('>>> starting', *cmd)\n",
    "  p = await asyncio.subprocess.create_subprocess_exec(\n",
    "      *cmd,\n",
    "      stdout=asyncio.subprocess.PIPE,\n",
    "      stderr=asyncio.subprocess.PIPE,\n",
    "  )\n",
    "\n",
    "  async def pipe(lines):\n",
    "    async for line in lines:\n",
    "      print(line.strip().decode('utf-8'))\n",
    "\n",
    "  await asyncio.gather(\n",
    "      pipe(p.stdout),\n",
    "      pipe(p.stderr),\n",
    "  )\n",
    "\n",
    "\n",
    "await asyncio.gather(\n",
    "    run(['ollama', 'serve']),\n",
    "    run(['ngrok', 'http', '--log', 'stderr', '11434']),\n",
    ")"
   ]
  },
  {
   "cell_type": "markdown",
   "id": "e7735a55-9aad-4caf-8683-52e2163ba53b",
   "metadata": {},
   "source": [
    "The previous cell starts two processes, `ollama` and `ngrok`. The log output will show a line like the following which describes the external address.\n",
    "\n",
    "```\n",
    "t=2023-11-12T22:55:56+0000 lvl=info msg=\"started tunnel\" obj=tunnels name=command_line addr=http://localhost:11434 url=https://8249-34-125-179-11.ngrok.io\n",
    "```\n",
    "\n",
    "The external address in this case is `https://8249-34-125-179-11.ngrok.io` which can be passed into `OLLAMA_HOST` to access this instance.\n",
    "\n",
    "```bash\n",
    "export OLLAMA_HOST=https://8249-34-125-179-11.ngrok.io\n",
    "ollama list\n",
    "ollama run mistral\n",
    "```"
   ]
  }
 ],
 "metadata": {
  "kernelspec": {
   "display_name": "Python 3 (ipykernel)",
   "language": "python",
   "name": "python3"
  },
  "language_info": {
   "codemirror_mode": {
    "name": "ipython",
    "version": 3
   },
   "file_extension": ".py",
   "mimetype": "text/x-python",
   "name": "python",
   "nbconvert_exporter": "python",
   "pygments_lexer": "ipython3",
   "version": "3.12.2"
  }
 },
 "nbformat": 4,
 "nbformat_minor": 5
}
